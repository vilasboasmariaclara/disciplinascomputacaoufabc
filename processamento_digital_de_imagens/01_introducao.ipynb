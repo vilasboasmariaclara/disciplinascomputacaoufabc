{
  "nbformat": 4,
  "nbformat_minor": 0,
  "metadata": {
    "colab": {
      "provenance": []
    },
    "kernelspec": {
      "name": "python3",
      "display_name": "Python 3"
    },
    "language_info": {
      "name": "python"
    }
  },
  "cells": [
    {
      "cell_type": "markdown",
      "source": [
        "# Aula 01: Introdução\n",
        "\n",
        "Olá, seja muito bem vindo ao nosso primeiro \"*notebook*\" de **PDI**.\n",
        "\n",
        "Neste notebook, veremos como **ler** e **exibir imagens** em python.\n",
        "\n",
        "O primeiro passo é importar as **bibliotecas** necessárias para fazer estas operações.\n",
        "\n",
        "Execute o trecho de código abaixo para importar estas bibliotecas.\n",
        "\n",
        "(Este material é do prof. Zampirolli, com erros do prof. Noma.)\n"
      ],
      "metadata": {
        "id": "owZ-qrIUxe8p"
      }
    },
    {
      "cell_type": "code",
      "source": [
        "from skimage import io\n",
        "from google.colab.patches import cv2_imshow\n",
        "import cv2\n",
        "import matplotlib.pyplot as plt\n",
        "import numpy as np\n",
        "from PIL import Image"
      ],
      "metadata": {
        "id": "DqkFRrxVZm5e"
      },
      "execution_count": null,
      "outputs": []
    },
    {
      "cell_type": "markdown",
      "source": [
        "No exemplo abaixo, vamos abrir o nosso primeiro exemplo de imagem.\n",
        "\n",
        "Como estamos no ambiente **online** do colab, usaremos sempre imagens da web ou do google drive.\n",
        "\n",
        "Execute o trecho abaixo e veja o que acontece."
      ],
      "metadata": {
        "id": "L8fsmnNYafSd"
      }
    },
    {
      "cell_type": "code",
      "execution_count": null,
      "metadata": {
        "id": "5lWf6oi4tXeG"
      },
      "outputs": [],
      "source": [
        "url = \"https://iiif.lib.ncsu.edu/iiif/0052574/full/800,/0/default.jpg\"\n",
        "image = io.imread(url)\n",
        "cv2_imshow(image)"
      ]
    },
    {
      "cell_type": "markdown",
      "source": [
        "### Imagens coloridas RGB\n",
        "\n",
        "No exemplo anterior, note que as cores estão um pouco diferentes.\n",
        "\n",
        "Isto pode acontecer de acordo com a ferramenta que você estiver usando.\n",
        "\n",
        "No caso, estamos usando a biblioteca do OpenCV para exibir a imagem.\n",
        "\n",
        "No código abaixo, converteremos as cores para **RGB** e ver o que acontece.\n",
        "\n",
        "Execute para ver o resultado."
      ],
      "metadata": {
        "id": "JrLYBtJcyPIv"
      }
    },
    {
      "cell_type": "code",
      "source": [
        "image2 = cv2.cvtColor(image, cv2.COLOR_BGR2RGB)\n",
        "cv2_imshow(image2)"
      ],
      "metadata": {
        "id": "KSfwPYm8t6j_"
      },
      "execution_count": null,
      "outputs": []
    },
    {
      "cell_type": "markdown",
      "source": [
        "### Concatenação de imagens\n",
        "\n",
        "A seguir, ilustraremos um outro exemplo de imagem.\n",
        "\n",
        "Mas desta vez, exibiremos as duas versões (a original e a convertida para RGB), uma ao lado da outra.\n",
        "\n",
        "Execute o código e veja o resultado."
      ],
      "metadata": {
        "id": "UyTO0tu5yvi_"
      }
    },
    {
      "cell_type": "code",
      "source": [
        "url = \"https://placekitten.com/800/571\"\n",
        "im = io.imread(url)\n",
        "im2 = cv2.cvtColor(im, cv2.COLOR_BGR2RGB) # RGB\n",
        "im3 = cv2.hconcat((im, im2))\n",
        "cv2_imshow(im3)"
      ],
      "metadata": {
        "id": "ilkFXrSFugBW"
      },
      "execution_count": null,
      "outputs": []
    },
    {
      "cell_type": "markdown",
      "source": [
        "### Representação de imagens por matriz\n",
        "\n",
        "Mas como representamos uma imagem RGB no computador?\n",
        "\n",
        "Seria uma matriz?\n",
        "\n",
        "Ou um \"cubo\"?\n",
        "\n",
        "Vamos averiguar...\n",
        "\n",
        "No trecho de código abaixo, imprimiremos o tipo de dados e a forma (*shape*) da imagem.\n",
        "\n",
        "Execute o código para ver o que acontece."
      ],
      "metadata": {
        "id": "951JasFqzHIV"
      }
    },
    {
      "cell_type": "code",
      "source": [
        "print(im2.dtype)  # unsigned int 8 bits\n",
        "print(im2.shape)  # matriz 571x800, 3 canais"
      ],
      "metadata": {
        "id": "YIkP-d2vvr6v"
      },
      "execution_count": null,
      "outputs": []
    },
    {
      "cell_type": "markdown",
      "source": [
        "No exemplo anterior, a imagem consiste de 3 canais ou bandas.\n",
        "\n",
        "Cada banda é uma matriz de níveis de cinza!\n",
        "\n",
        "Vamos exibir cada um deses 3 canais?\n",
        "\n",
        "Execute o código abaixo e veja o que acontece."
      ],
      "metadata": {
        "id": "cnzjjcxicwR2"
      }
    },
    {
      "cell_type": "code",
      "source": [
        "# gray = im2[:,:,0]\n",
        "gray = cv2.hconcat((im2[:,:,0], im2[:,:,1],im2[:,:,2]))\n",
        "cv2_imshow(gray)"
      ],
      "metadata": {
        "id": "-Zwlcu1jR4Ll"
      },
      "execution_count": null,
      "outputs": []
    },
    {
      "cell_type": "markdown",
      "source": [
        "### Conversão para níveis de cinza (grayscale)\n",
        "\n",
        "Em muitas das atividades, trabalharemos com imagens em níveis de cinza.\n",
        "\n",
        "No caso de uma imagem colorida, podemos por exemplo pegar um dos 3 canais de níveis de cinza... ou simplesmente fazer uma conversão conforme abaixo.\n",
        "\n",
        "Execute o código e veja o que acontece."
      ],
      "metadata": {
        "id": "5dJ6YDFBeab7"
      }
    },
    {
      "cell_type": "code",
      "source": [
        "gray2 = cv2.cvtColor(im, cv2.COLOR_BGR2GRAY)\n",
        "cv2_imshow(gray2)"
      ],
      "metadata": {
        "id": "giGDpO-AeZqc"
      },
      "execution_count": null,
      "outputs": []
    },
    {
      "cell_type": "markdown",
      "source": [
        "### Recorte de imagens\n",
        "\n",
        "Em python, é muito fácil obter \"recortes\" de uma matriz.\n",
        "\n",
        "Ou seja...\n",
        "\n",
        "Mostrar apenas um recorte de uma imagem é muito fácil... no exemplo abaixo, usamos a biblioteca **pyplot**.\n",
        "\n",
        "Execute o código abaixo."
      ],
      "metadata": {
        "id": "slREO2ZVfPTf"
      }
    },
    {
      "cell_type": "code",
      "source": [
        "imCut = gray2[50:500,120:550]\n",
        "plt.imshow(imCut, 'gray')"
      ],
      "metadata": {
        "id": "_bZbetz2fP_z"
      },
      "execution_count": null,
      "outputs": []
    },
    {
      "cell_type": "markdown",
      "source": [
        "### Binarização baseada em limiar\n",
        "\n",
        "Até aqui, vimos como abrir e mostrar uma imagem... usamos imagens coloridas e em níveis de cinza.\n",
        "\n",
        "Agora, mostraremos um exemplo binário.\n",
        "\n",
        "Vamos converter a imagem para binário?\n",
        "\n",
        "Em uma imagem binária, temos apenas 2 níveis de cinza: 0 (preto) e 1 (branco).\n",
        "\n",
        "Uma maneira simples de binarizar uma imagem (em níveis de cinza) é considerar um **limiar**.\n",
        "\n",
        "Acima do valor do limiar vira branco (1) e abaixo vira preto (0).\n",
        "\n",
        "Execute os trechos de códigos e veja o que acontece."
      ],
      "metadata": {
        "id": "O9pKs-1zgPAz"
      }
    },
    {
      "cell_type": "code",
      "source": [
        "# dimensoes da imagem: altura e largura\n",
        "print (imCut.shape)\n",
        "h,w = imCut.shape"
      ],
      "metadata": {
        "id": "sYAvDU9JhRUj"
      },
      "execution_count": null,
      "outputs": []
    },
    {
      "cell_type": "code",
      "source": [
        "# binariza a imagem usando o limiar\n",
        "limiar = 100\n",
        "imBin = np.zeros_like(imCut)\n",
        "for i in range(h): # para cada linha\n",
        "    for j in range(w): # para cada coluna\n",
        "        if imCut[i,j] > limiar:\n",
        "            imBin[i,j] = 255\n",
        "\n",
        "plt.figure(figsize=(5,5))\n",
        "plt.imshow(imBin, 'gray')"
      ],
      "metadata": {
        "id": "S8DpB7OkgPgi"
      },
      "execution_count": null,
      "outputs": []
    },
    {
      "cell_type": "markdown",
      "source": [
        "No código anterior, a binarização foi feita da maneira tradicional, percorrendo-se cada um dos pixels.\n",
        "\n",
        "Mas em python, podemos trabalhar com matrizes de maneira mais direta.\n",
        "\n",
        "Veja o exemplo de código abaixo.\n",
        "\n",
        "Ele faz a mesma coisa!\n",
        "\n",
        "Execute pra ver o que acontece."
      ],
      "metadata": {
        "id": "kLo8bD9pH_6-"
      }
    },
    {
      "cell_type": "code",
      "source": [
        "# outra maneira mais \"direta\" para binarizar uma imagem\n",
        "limiar = 100\n",
        "imBin = imCut > limiar   # binariza\n",
        "plt.figure(figsize=(5,5))\n",
        "plt.imshow(imBin, 'gray')"
      ],
      "metadata": {
        "id": "7oqewKu-unUF"
      },
      "execution_count": null,
      "outputs": []
    },
    {
      "cell_type": "markdown",
      "source": [
        "Para diferentes valores de **limiar**, teremos diferentes resultados.\n",
        "\n",
        "Execute o código baixo para ver mais exemplos de limiares."
      ],
      "metadata": {
        "id": "yQCI_jFRh1iN"
      }
    },
    {
      "cell_type": "code",
      "source": [
        "# cria uma lista de cada resultado binarizado, um para cada limiar\n",
        "limiares = [60, 80, 100, 120, 140]\n",
        "images = []\n",
        "for l in limiares:\n",
        "  imBin = (imCut > l) * 255\n",
        "  images.append(imBin.copy())\n"
      ],
      "metadata": {
        "id": "GbCXEC27h2PU"
      },
      "execution_count": null,
      "outputs": []
    },
    {
      "cell_type": "code",
      "source": [
        "# exibe os resultados\n",
        "for i in range(len(images)):\n",
        "  cv2_imshow (images[i])\n"
      ],
      "metadata": {
        "id": "tT1Ms_rlkNQF"
      },
      "execution_count": null,
      "outputs": []
    },
    {
      "cell_type": "markdown",
      "source": [
        "Opa, o resultado anterior ficou meio feio de ser exibido (na vertical).\n",
        "\n",
        "Execute o código abaixo para mostrar os resultados agora na horizontal pra ver se fica melhor."
      ],
      "metadata": {
        "id": "jqfHaWv3IvMo"
      }
    },
    {
      "cell_type": "code",
      "source": [
        "# agora concatena os resultados, um ao lado do outro para facilitar visualizacao\n",
        "result = cv2.hconcat((images[0], images[1], images[2], images[3], images[4]))\n",
        "cv2_imshow (result)\n"
      ],
      "metadata": {
        "id": "LQ0zhji_rcyv"
      },
      "execution_count": null,
      "outputs": []
    },
    {
      "cell_type": "markdown",
      "source": [
        "Vimos que fica melhor visualizar tudo na horizontal, um ao lado do outro.\n",
        "\n",
        "Organizamos tudo agora no trecho de código abaixo... execute e veja o resultado."
      ],
      "metadata": {
        "id": "HhC_JlKNJBk2"
      }
    },
    {
      "cell_type": "code",
      "source": [
        "# vimos que visualizar tudo ao lado do outro ficou melhor...\n",
        "# agora organizamos tudo em um único código\n",
        "limiares = [60, 80, 100, 120, 140]\n",
        "cont = 0\n",
        "images = []\n",
        "for l in limiares:\n",
        "  imBin = (imCut > l) * 255\n",
        "  if cont == 0:\n",
        "    result = imBin.copy()\n",
        "  else:\n",
        "    result = cv2.hconcat ((result, imBin))\n",
        "  cont += 1\n",
        "cv2_imshow (result)"
      ],
      "metadata": {
        "id": "Nm8GxCHbjHLU"
      },
      "execution_count": null,
      "outputs": []
    },
    {
      "cell_type": "markdown",
      "source": [
        "### Vetores e Matrizes em Python\n",
        "\n",
        "Até aqui, vimos algumas manipulações com imagens.\n",
        "\n",
        "Por exemplo, vimos que as imagens podem ser representadas por matrizes de inteiros (níveis de cinza que variam de 0 a 255).\n",
        "\n",
        "Para criar vetores e matrizes em python é muito fácil... veja os exemplos abaixo."
      ],
      "metadata": {
        "id": "_wdGNmVDobxI"
      }
    },
    {
      "cell_type": "code",
      "source": [
        "# cria um vetor com n zeros\n",
        "n = 10\n",
        "vetor = [0] * n\n",
        "print (vetor)    # lista"
      ],
      "metadata": {
        "id": "u-LxdX7Jm2jz"
      },
      "execution_count": null,
      "outputs": []
    },
    {
      "cell_type": "code",
      "source": [
        "vetor[9] = 10\n",
        "vetor[0] = 1\n",
        "print (vetor)"
      ],
      "metadata": {
        "id": "y1vKmN_mnOyu"
      },
      "execution_count": null,
      "outputs": []
    },
    {
      "cell_type": "code",
      "source": [
        "# cria uma matriz n x m preenchida com zeros\n",
        "n = 3\n",
        "m = 5\n",
        "matriz = [[0 for col in range(m)] for row in range(n)]\n",
        "print (matriz)  # lista de listas"
      ],
      "metadata": {
        "id": "ghODoAkKneiy"
      },
      "execution_count": null,
      "outputs": []
    },
    {
      "cell_type": "code",
      "source": [
        "matriz[2][4] = 35\n",
        "matriz[0][0] = 11\n",
        "matriz[1][3] = 24\n",
        "print (matriz)"
      ],
      "metadata": {
        "id": "sb9KyWWbp5rG"
      },
      "execution_count": null,
      "outputs": []
    },
    {
      "cell_type": "markdown",
      "source": [
        "### Operações aritméticas com matrizes\n",
        "\n",
        "Para que os exemplos anteriores funcionem, converteremos as \"listas\" para *arrays* com a biblioteca **numpy**.\n",
        "\n",
        "Abaixo, temos alguns exemplos."
      ],
      "metadata": {
        "id": "COFuI4zuwon-"
      }
    },
    {
      "cell_type": "code",
      "source": [
        "import numpy as np\n",
        "M = [[1 for col in range(5)] for row in range(3)]\n",
        "print (M)     # lista\n",
        "M = np.array (M)   # converte para array, senao nao da certo\n",
        "print (M)     # array"
      ],
      "metadata": {
        "id": "V1Ru7s8rpu6R"
      },
      "execution_count": null,
      "outputs": []
    },
    {
      "cell_type": "code",
      "source": [
        "# multiplicacao\n",
        "print (M * 255)"
      ],
      "metadata": {
        "id": "WaBiJof6rMXJ"
      },
      "execution_count": null,
      "outputs": []
    },
    {
      "cell_type": "code",
      "source": [
        "# outra maneira\n",
        "M2 = np.ones((3,5),dtype='uint8')*255\n",
        "print (M2)"
      ],
      "metadata": {
        "id": "GffdCzfWxoYy"
      },
      "execution_count": null,
      "outputs": []
    },
    {
      "cell_type": "code",
      "source": [
        "# podemos criar uma matriz de boolean\n",
        "M3 = np.ones((4,6),dtype='bool')\n",
        "print (M3)\n",
        "print (M3.dtype)"
      ],
      "metadata": {
        "id": "xuc-NgKrrR2Q"
      },
      "execution_count": null,
      "outputs": []
    },
    {
      "cell_type": "code",
      "source": [
        "# se multiplicarmos boolean com inteiro, o resultado vira inteiro\n",
        "print (M3 * 255)"
      ],
      "metadata": {
        "id": "bZKZXJdtrX8y"
      },
      "execution_count": null,
      "outputs": []
    },
    {
      "cell_type": "code",
      "source": [
        "# operacoes com matrizes e escalares, resultam em matriz\n",
        "print (M3 * 255 - 200)"
      ],
      "metadata": {
        "id": "ay39WkyJy5uG"
      },
      "execution_count": null,
      "outputs": []
    },
    {
      "cell_type": "code",
      "source": [
        "# operacoes com matrizes e escalares, resultam em matriz\n",
        "print (M3 * 10 + 200)"
      ],
      "metadata": {
        "id": "ObzZew4kzH9t"
      },
      "execution_count": null,
      "outputs": []
    },
    {
      "cell_type": "code",
      "source": [
        "# comparacao entre matriz e escalar resulta em matriz\n",
        "print (M3*255 <= 0)"
      ],
      "metadata": {
        "id": "Ixj4SIKjzQZf"
      },
      "execution_count": null,
      "outputs": []
    },
    {
      "cell_type": "code",
      "source": [
        "# matriz com números aleatórios\n",
        "H, W = 4, 6\n",
        "K = 255\n",
        "matriz = (np.random.rand(H, W)*K).astype('uint8')\n",
        "print (matriz)"
      ],
      "metadata": {
        "id": "nUXM2iFbzlsm"
      },
      "execution_count": null,
      "outputs": []
    },
    {
      "cell_type": "code",
      "source": [
        "# exibe matriz como uma imagem em níveis de cinza\n",
        "import matplotlib.pyplot as plt\n",
        "plt.figure(figsize=(5,5))\n",
        "plt.imshow(matriz, 'gray')"
      ],
      "metadata": {
        "id": "IEewQLM1EXmU"
      },
      "execution_count": null,
      "outputs": []
    },
    {
      "cell_type": "code",
      "source": [
        "# para mostrar inteiros no eixo vertical\n",
        "plt.figure(figsize=(5,5))\n",
        "plt.yticks(range(H))\n",
        "plt.imshow(matriz, 'gray')"
      ],
      "metadata": {
        "id": "9iEFmG1EEYA1"
      },
      "execution_count": null,
      "outputs": []
    },
    {
      "cell_type": "markdown",
      "source": [
        "### Exercício 1\n",
        "\n",
        "Considere a seguinte imagem:\n",
        "\n",
        "https://drive.google.com/u/3/uc?id=1_z1JK_lLZyUMZcGLysOV6Ks1g0VpGQIR&export=download\n",
        "\n",
        "Tarefas:\n",
        "\n",
        "- abra a imagem especificada acima (você pode usar exatamente o link acima)\n",
        "- imprima o tipo de dados da imagem (*dtype*)\n",
        "- imprima as dimensões da imagem (*shape*)\n",
        "- exiba a imagem na tela\n",
        "\n",
        "Agora responda:\n",
        "\n",
        "- o que tem nesta imagem?\n",
        "- ela é colorida ou cinza?\n",
        "- quais as dimensões da imagem?"
      ],
      "metadata": {
        "id": "9NIk9kK1J_H9"
      }
    },
    {
      "cell_type": "code",
      "source": [],
      "metadata": {
        "id": "Y3C-DsRYEYWb"
      },
      "execution_count": null,
      "outputs": []
    },
    {
      "cell_type": "markdown",
      "source": [
        "### Execício 2\n",
        "\n",
        "Para a mesma imagem do exercício anterior, obtenha uma imagem binarizada.\n",
        "\n",
        "Para isto, escolha um valor de **limiar**.\n",
        "\n",
        "Agora responda:\n",
        "\n",
        "- qual valor de limiar escolhido e por que?"
      ],
      "metadata": {
        "id": "IlZyYaPBLQwe"
      }
    },
    {
      "cell_type": "code",
      "source": [],
      "metadata": {
        "id": "A1cG2sMqEYmU"
      },
      "execution_count": null,
      "outputs": []
    }
  ]
}